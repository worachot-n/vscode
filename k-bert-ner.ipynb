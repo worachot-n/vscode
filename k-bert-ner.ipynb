{
 "cells": [
  {
   "cell_type": "code",
   "execution_count": 1,
   "metadata": {},
   "outputs": [
    {
     "name": "stdout",
     "output_type": "stream",
     "text": [
      "\u001b[K     |████████████████████████████████| 151 kB 16.4 MB/s eta 0:00:01\n",
      "\u001b[?25h  Building wheel for argparse (setup.py) ... \u001b[?25l\u001b[?25hdone\n",
      "\u001b[K     |████████████████████████████████| 50.2 MB 1.1 MB/s eta 0:00:011\n",
      "\u001b[?25h"
     ]
    }
   ],
   "source": [
    "!pip install -r requirements.txt --quiet\n",
    "!pip install pkuseg --quiet"
   ]
  },
  {
   "cell_type": "code",
   "execution_count": 2,
   "metadata": {},
   "outputs": [],
   "source": [
    "!cp /content/drive/MyDrive/Thesis/Coding/K-BERT/models/google_model.bin /content/vscode/models/google_model.bin\n",
    "\n",
    "!cp /content/drive/MyDrive/Thesis/Coding/K-BERT/brain/kgs/CnDbpedia.spo /content/vscode/brain/kgs/CnDbpedia.spo\n",
    "\n",
    "!cp -R /content/drive/MyDrive/Thesis/Coding/K-BERT/datasets/* /content/vscode/datasets"
   ]
  },
  {
   "cell_type": "code",
   "execution_count": 3,
   "metadata": {},
   "outputs": [],
   "source": [
    "# -*- encoding:utf-8 -*-\n",
    "\"\"\"\n",
    "  This script provides an k-BERT exmaple for classification.\n",
    "\"\"\"\n",
    "import sys\n",
    "import torch\n",
    "import json\n",
    "import random\n",
    "import argparse\n",
    "import collections\n",
    "import torch.nn as nn\n",
    "from uer.utils.vocab import Vocab\n",
    "from uer.utils.constants import *\n",
    "from uer.utils.tokenizer import * \n",
    "from uer.model_builder import build_model\n",
    "from uer.utils.optimizers import  BertAdam\n",
    "from uer.utils.config import load_hyperparam\n",
    "from uer.utils.seed import set_seed\n",
    "from uer.model_saver import save_model\n",
    "from brain import KnowledgeGraph\n",
    "from multiprocessing import Process, Pool\n",
    "import numpy as np"
   ]
  },
  {
   "cell_type": "code",
   "execution_count": 4,
   "metadata": {},
   "outputs": [],
   "source": [
    "# torch.cuda.empty_cache()"
   ]
  },
  {
   "cell_type": "code",
   "execution_count": 5,
   "metadata": {},
   "outputs": [
    {
     "name": "stdout",
     "output_type": "stream",
     "text": [
      "run_kbert_cls.py:537: UserWarning: Creating a tensor from a list of numpy.ndarrays is extremely slow. Please consider converting the list to a single numpy.ndarray with numpy.array() before converting to a tensor. (Triggered internally at  ../torch/csrc/utils/tensor_new.cpp:201.)\n",
      "  vms_batch = torch.LongTensor(vms_batch)\n",
      "/content/vscode/uer/utils/optimizers.py:123: UserWarning: This overload of add_ is deprecated:\n",
      "\tadd_(Number alpha, Tensor other)\n",
      "Consider using one of the following signatures instead:\n",
      "\tadd_(Tensor other, *, Number alpha) (Triggered internally at  ../torch/csrc/utils/python_arg_parser.cpp:1174.)\n",
      "  next_m.mul_(beta1).add_(1 - beta1, grad)\n"
     ]
    }
   ],
   "source": [
    "# !CUDA_VISIBLE_DEVICES='0' python3 -u run_kbert_cls.py \\\n",
    "#     --pretrained_model_path ./models/google_model.bin \\\n",
    "#     --config_path ./models/google_config.json \\\n",
    "#     --vocab_path ./models/google_vocab.txt \\\n",
    "#     --train_path ./datasets/book_review/train.tsv \\\n",
    "#     --dev_path ./datasets/book_review/dev.tsv \\\n",
    "#     --test_path ./datasets/book_review/test.tsv \\\n",
    "#     --epochs_num 5 --batch_size 32 --kg_name CnDbpedia \\\n",
    "#     --output_model_path ./outputs/kbert_bookreview_CnDbpedia.bin \\\n",
    "#     > ./outputs/kbert_bookreview_CnDbpedia.log &"
   ]
  },
  {
   "cell_type": "code",
   "execution_count": 6,
   "metadata": {},
   "outputs": [],
   "source": [
    "!CUDA_VISIBLE_DEVICES='0' python3 -u run_kbert_ner.py \\\n",
    "    --pretrained_model_path ./models/google_model.bin \\\n",
    "    --config_path ./models/google_config.json \\\n",
    "    --vocab_path ./models/google_vocab.txt \\\n",
    "    --train_path ./datasets/msra_ner/train.tsv \\\n",
    "    --dev_path ./datasets/msra_ner/dev.tsv \\\n",
    "    --test_path ./datasets/msra_ner/test.tsv \\\n",
    "    --epochs_num 5 --batch_size 16 --kg_name CnDbpedia \\\n",
    "    --output_model_path ./outputs/kbert_msraner_CnDbpedia.bin \\\n",
    "    > ./outputs/kbert_msraner_CnDbpedia.log &"
   ]
  }
 ],
 "metadata": {
  "kernelspec": {
   "display_name": "Python 3.7.13 64-bit",
   "language": "python",
   "name": "python3"
  },
  "language_info": {
   "codemirror_mode": {
    "name": "ipython",
    "version": 3
   },
   "file_extension": ".py",
   "mimetype": "text/x-python",
   "name": "python",
   "nbconvert_exporter": "python",
   "pygments_lexer": "ipython3",
   "version": "3.7.13"
  },
  "orig_nbformat": 4,
  "vscode": {
   "interpreter": {
    "hash": "31f2aee4e71d21fbe5cf8b01ff0e069b9275f58929596ceb00d14d90e3e16cd6"
   }
  }
 },
 "nbformat": 4,
 "nbformat_minor": 2
}
